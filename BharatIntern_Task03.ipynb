{
  "cells": [
    {
      "cell_type": "markdown",
      "metadata": {
        "id": "view-in-github",
        "colab_type": "text"
      },
      "source": [
        "<a href=\"https://colab.research.google.com/github/fakheramansuri/project/blob/main/BharatIntern_Task03.ipynb\" target=\"_parent\"><img src=\"https://colab.research.google.com/assets/colab-badge.svg\" alt=\"Open In Colab\"/></a>"
      ]
    },
    {
      "cell_type": "code",
      "execution_count": null,
      "id": "15320ec0",
      "metadata": {
        "execution": {
          "iopub.execute_input": "2022-02-28T21:48:46.652202Z",
          "iopub.status.busy": "2022-02-28T21:48:46.645790Z",
          "iopub.status.idle": "2022-02-28T21:48:52.914974Z",
          "shell.execute_reply": "2022-02-28T21:48:52.915510Z"
        },
        "id": "15320ec0",
        "papermill": {
          "duration": 6.308618,
          "end_time": "2022-02-28T21:48:52.915831",
          "exception": false,
          "start_time": "2022-02-28T21:48:46.607213",
          "status": "completed"
        },
        "tags": []
      },
      "outputs": [],
      "source": [
        "from tensorflow import keras"
      ]
    },
    {
      "cell_type": "code",
      "execution_count": null,
      "id": "841bd8ac",
      "metadata": {
        "execution": {
          "iopub.execute_input": "2022-02-28T21:48:52.980185Z",
          "iopub.status.busy": "2022-02-28T21:48:52.979433Z",
          "iopub.status.idle": "2022-02-28T21:48:55.277744Z",
          "shell.execute_reply": "2022-02-28T21:48:55.277069Z"
        },
        "id": "841bd8ac",
        "papermill": {
          "duration": 2.331128,
          "end_time": "2022-02-28T21:48:55.277904",
          "exception": false,
          "start_time": "2022-02-28T21:48:52.946776",
          "status": "completed"
        },
        "tags": []
      },
      "outputs": [],
      "source": [
        "(X_train, y_train), (X_test, y_test) = keras.datasets.mnist.load_data()"
      ]
    },
    {
      "cell_type": "code",
      "execution_count": null,
      "id": "5ac4fbf7",
      "metadata": {
        "execution": {
          "iopub.execute_input": "2022-02-28T21:48:55.348686Z",
          "iopub.status.busy": "2022-02-28T21:48:55.347863Z",
          "iopub.status.idle": "2022-02-28T21:48:56.187255Z",
          "shell.execute_reply": "2022-02-28T21:48:56.186158Z"
        },
        "id": "5ac4fbf7",
        "papermill": {
          "duration": 0.877034,
          "end_time": "2022-02-28T21:48:56.187448",
          "exception": false,
          "start_time": "2022-02-28T21:48:55.310414",
          "status": "completed"
        },
        "tags": []
      },
      "outputs": [],
      "source": [
        "from sklearn.model_selection import train_test_split"
      ]
    },
    {
      "cell_type": "code",
      "execution_count": null,
      "id": "b5f040f0",
      "metadata": {
        "execution": {
          "iopub.execute_input": "2022-02-28T21:48:56.258941Z",
          "iopub.status.busy": "2022-02-28T21:48:56.258270Z",
          "iopub.status.idle": "2022-02-28T21:48:56.333456Z",
          "shell.execute_reply": "2022-02-28T21:48:56.332752Z"
        },
        "id": "b5f040f0",
        "papermill": {
          "duration": 0.113041,
          "end_time": "2022-02-28T21:48:56.333620",
          "exception": false,
          "start_time": "2022-02-28T21:48:56.220579",
          "status": "completed"
        },
        "tags": []
      },
      "outputs": [],
      "source": [
        "X_train, X_val, y_train, y_val = train_test_split(X_train,\n",
        "                                                  y_train)"
      ]
    },
    {
      "cell_type": "code",
      "execution_count": null,
      "id": "aaa73d02",
      "metadata": {
        "execution": {
          "iopub.execute_input": "2022-02-28T21:48:56.404726Z",
          "iopub.status.busy": "2022-02-28T21:48:56.403641Z",
          "iopub.status.idle": "2022-02-28T21:48:56.405563Z",
          "shell.execute_reply": "2022-02-28T21:48:56.406106Z"
        },
        "id": "aaa73d02",
        "papermill": {
          "duration": 0.039858,
          "end_time": "2022-02-28T21:48:56.406286",
          "exception": false,
          "start_time": "2022-02-28T21:48:56.366428",
          "status": "completed"
        },
        "tags": []
      },
      "outputs": [],
      "source": [
        "import matplotlib.pyplot as plt"
      ]
    },
    {
      "cell_type": "code",
      "execution_count": null,
      "id": "f04364c4",
      "metadata": {
        "execution": {
          "iopub.execute_input": "2022-02-28T21:48:56.486655Z",
          "iopub.status.busy": "2022-02-28T21:48:56.485628Z",
          "iopub.status.idle": "2022-02-28T21:48:56.698443Z",
          "shell.execute_reply": "2022-02-28T21:48:56.699371Z"
        },
        "id": "f04364c4",
        "outputId": "b9af87b2-d5d4-4ae3-cf71-c55081ae1939",
        "papermill": {
          "duration": 0.258975,
          "end_time": "2022-02-28T21:48:56.699670",
          "exception": false,
          "start_time": "2022-02-28T21:48:56.440695",
          "status": "completed"
        },
        "tags": [],
        "colab": {
          "base_uri": "https://localhost:8080/",
          "height": 205
        }
      },
      "outputs": [
        {
          "output_type": "display_data",
          "data": {
            "text/plain": [
              "<Figure size 1000x1000 with 4 Axes>"
            ],
            "image/png": "[encoded data removed]"
          },
          "metadata": {}
        }
      ],
      "source": [
        "fig, axs = plt.subplots(1, 4, figsize= (10, 10))\n",
        "axs[0].imshow(X_train[0], cmap='gray')\n",
        "axs[1].imshow(X_train[5], cmap='gray')\n",
        "axs[2].imshow(X_train[9], cmap='gray')\n",
        "axs[3].imshow(X_train[12], cmap='gray')\n",
        "axs[0].axis(False)\n",
        "axs[1].axis(False)\n",
        "axs[2].axis(False)\n",
        "axs[3].axis(False)\n",
        "fig.show()"
      ]
    },
    {
      "cell_type": "code",
      "execution_count": null,
      "id": "267ab524",
      "metadata": {
        "execution": {
          "iopub.execute_input": "2022-02-28T21:48:56.771164Z",
          "iopub.status.busy": "2022-02-28T21:48:56.770463Z",
          "iopub.status.idle": "2022-02-28T21:48:56.858115Z",
          "shell.execute_reply": "2022-02-28T21:48:56.856835Z"
        },
        "id": "267ab524",
        "outputId": "d3710d8a-5822-4ee0-8f1a-a3ce856e2395",
        "papermill": {
          "duration": 0.123715,
          "end_time": "2022-02-28T21:48:56.858413",
          "exception": false,
          "start_time": "2022-02-28T21:48:56.734698",
          "status": "completed"
        },
        "tags": [],
        "colab": {
          "base_uri": "https://localhost:8080/",
          "height": 406
        }
      },
      "outputs": [
        {
          "output_type": "display_data",
          "data": {
            "text/plain": [
              "<Figure size 640x480 with 1 Axes>"
            ],
            "image/png": "[encoded data removed]"
          },
          "metadata": {}
        }
      ],
      "source": [
        "plt.imshow(X_train[33], cmap='gray', vmin=0, vmax=255)\n",
        "plt.axis(False)\n",
        "plt.show()"
      ]
    },
    {
      "cell_type": "code",
      "execution_count": null,
      "id": "f2ab43c1",
      "metadata": {
        "execution": {
          "iopub.execute_input": "2022-02-28T21:48:56.958530Z",
          "iopub.status.busy": "2022-02-28T21:48:56.957472Z",
          "iopub.status.idle": "2022-02-28T21:48:57.113697Z",
          "shell.execute_reply": "2022-02-28T21:48:57.114287Z"
        },
        "id": "f2ab43c1",
        "papermill": {
          "duration": 0.196994,
          "end_time": "2022-02-28T21:48:57.114502",
          "exception": false,
          "start_time": "2022-02-28T21:48:56.917508",
          "status": "completed"
        },
        "tags": []
      },
      "outputs": [],
      "source": [
        "model = keras.models.Sequential(\n",
        "    [keras.layers.Flatten(input_shape=(28, 28)),\n",
        "     keras.layers.Dense(300, activation = 'relu'),\n",
        "     keras.layers.Dense(100, activation = 'relu'),\n",
        "     keras.layers.Dense(50, activation = 'relu'),\n",
        "     keras.layers.Dense(10, activation = 'softmax')]\n",
        ")"
      ]
    },
    {
      "cell_type": "code",
      "execution_count": null,
      "id": "e350e4b3",
      "metadata": {
        "execution": {
          "iopub.execute_input": "2022-02-28T21:48:57.190104Z",
          "iopub.status.busy": "2022-02-28T21:48:57.189378Z",
          "iopub.status.idle": "2022-02-28T21:48:57.197092Z",
          "shell.execute_reply": "2022-02-28T21:48:57.197973Z"
        },
        "id": "e350e4b3",
        "outputId": "30c99caa-3846-4da8-cf81-8fc17ec7441d",
        "papermill": {
          "duration": 0.048779,
          "end_time": "2022-02-28T21:48:57.198241",
          "exception": false,
          "start_time": "2022-02-28T21:48:57.149462",
          "status": "completed"
        },
        "tags": [],
        "colab": {
          "base_uri": "https://localhost:8080/"
        }
      },
      "outputs": [
        {
          "output_type": "stream",
          "name": "stdout",
          "text": [
            "Model: \"sequential\"\n",
            "_________________________________________________________________\n",
            " Layer (type)                Output Shape              Param #   \n",
            "=================================================================\n",
            " flatten (Flatten)           (None, 784)               0         \n",
            "                                                                 \n",
            " dense (Dense)               (None, 300)               235500    \n",
            "                                                                 \n",
            " dense_1 (Dense)             (None, 100)               30100     \n",
            "                                                                 \n",
            " dense_2 (Dense)             (None, 50)                5050      \n",
            "                                                                 \n",
            " dense_3 (Dense)             (None, 10)                510       \n",
            "                                                                 \n",
            "=================================================================\n",
            "Total params: 271160 (1.03 MB)\n",
            "Trainable params: 271160 (1.03 MB)\n",
            "Non-trainable params: 0 (0.00 Byte)\n",
            "_________________________________________________________________\n"
          ]
        }
      ],
      "source": [
        "model.summary()"
      ]
    },
    {
      "cell_type": "code",
      "execution_count": null,
      "id": "28a7a4ba",
      "metadata": {
        "execution": {
          "iopub.execute_input": "2022-02-28T21:48:57.275566Z",
          "iopub.status.busy": "2022-02-28T21:48:57.274787Z",
          "iopub.status.idle": "2022-02-28T21:48:58.269214Z",
          "shell.execute_reply": "2022-02-28T21:48:58.269905Z"
        },
        "id": "28a7a4ba",
        "outputId": "21f8a1b1-60ea-42b4-fe55-a295188fd6ba",
        "papermill": {
          "duration": 1.034791,
          "end_time": "2022-02-28T21:48:58.270125",
          "exception": false,
          "start_time": "2022-02-28T21:48:57.235334",
          "status": "completed"
        },
        "tags": [],
        "colab": {
          "base_uri": "https://localhost:8080/",
          "height": 564
        }
      },
      "outputs": [
        {
          "output_type": "execute_result",
          "data": {
            "image/png": "[encoded data removed]",
            "text/plain": [
              "<IPython.core.display.Image object>"
            ]
          },
          "metadata": {},
          "execution_count": 11
        }
      ],
      "source": [
        "keras.utils.plot_model(model)"
      ]
    },
    {
      "cell_type": "code",
      "execution_count": null,
      "id": "55cef6ab",
      "metadata": {
        "execution": {
          "iopub.execute_input": "2022-02-28T21:48:58.356638Z",
          "iopub.status.busy": "2022-02-28T21:48:58.355915Z",
          "iopub.status.idle": "2022-02-28T21:48:58.364545Z",
          "shell.execute_reply": "2022-02-28T21:48:58.365153Z"
        },
        "id": "55cef6ab",
        "papermill": {
          "duration": 0.058839,
          "end_time": "2022-02-28T21:48:58.365335",
          "exception": false,
          "start_time": "2022-02-28T21:48:58.306496",
          "status": "completed"
        },
        "tags": []
      },
      "outputs": [],
      "source": [
        "model.compile(loss = [keras.losses.sparse_categorical_crossentropy]\n",
        "              , optimizer = keras.optimizers.Adam(),\n",
        "              metrics = [keras.metrics.sparse_categorical_accuracy])"
      ]
    },
    {
      "cell_type": "code",
      "execution_count": null,
      "id": "7a30f9c1",
      "metadata": {
        "execution": {
          "iopub.execute_input": "2022-02-28T21:48:58.441720Z",
          "iopub.status.busy": "2022-02-28T21:48:58.440748Z",
          "iopub.status.idle": "2022-02-28T21:48:58.445109Z",
          "shell.execute_reply": "2022-02-28T21:48:58.445644Z"
        },
        "id": "7a30f9c1",
        "papermill": {
          "duration": 0.04419,
          "end_time": "2022-02-28T21:48:58.445820",
          "exception": false,
          "start_time": "2022-02-28T21:48:58.401630",
          "status": "completed"
        },
        "tags": []
      },
      "outputs": [],
      "source": [
        "#check_point = keras.callbacks.ModelCheckpoint(\"mnist_keras_v0.h5\")\n",
        "early_stopping = keras.callbacks.EarlyStopping(patience=10,\n",
        "                                              restore_best_weights = True)"
      ]
    },
    {
      "cell_type": "code",
      "execution_count": null,
      "id": "66fade39",
      "metadata": {
        "execution": {
          "iopub.execute_input": "2022-02-28T21:48:58.522556Z",
          "iopub.status.busy": "2022-02-28T21:48:58.521517Z",
          "iopub.status.idle": "2022-02-28T21:48:58.527696Z",
          "shell.execute_reply": "2022-02-28T21:48:58.528294Z"
        },
        "id": "66fade39",
        "outputId": "bde61c3d-b49e-41eb-a1fb-34d53e84657a",
        "papermill": {
          "duration": 0.04636,
          "end_time": "2022-02-28T21:48:58.528477",
          "exception": false,
          "start_time": "2022-02-28T21:48:58.482117",
          "status": "completed"
        },
        "tags": [],
        "colab": {
          "base_uri": "https://localhost:8080/"
        }
      },
      "outputs": [
        {
          "output_type": "execute_result",
          "data": {
            "text/plain": [
              "(45000, 28, 28)"
            ]
          },
          "metadata": {},
          "execution_count": 14
        }
      ],
      "source": [
        "X_train.shape"
      ]
    },
    {
      "cell_type": "code",
      "execution_count": null,
      "id": "8affd5d3",
      "metadata": {
        "execution": {
          "iopub.execute_input": "2022-02-28T21:48:58.611948Z",
          "iopub.status.busy": "2022-02-28T21:48:58.610792Z",
          "iopub.status.idle": "2022-02-28T21:51:40.735819Z",
          "shell.execute_reply": "2022-02-28T21:51:40.735100Z"
        },
        "id": "8affd5d3",
        "outputId": "5ea25473-6b61-475a-f2d8-ce03c1fca81e",
        "papermill": {
          "duration": 162.169241,
          "end_time": "2022-02-28T21:51:40.735995",
          "exception": false,
          "start_time": "2022-02-28T21:48:58.566754",
          "status": "completed"
        },
        "tags": [],
        "colab": {
          "base_uri": "https://localhost:8080/"
        }
      },
      "outputs": [
        {
          "output_type": "stream",
          "name": "stdout",
          "text": [
            "Epoch 1/30\n",
            "1407/1407 [==============================] - 13s 4ms/step - loss: 1.4595 - sparse_categorical_accuracy: 0.8701 - val_loss: 0.3738 - val_sparse_categorical_accuracy: 0.9173\n",
            "Epoch 2/30\n",
            "1407/1407 [==============================] - 6s 4ms/step - loss: 0.2493 - sparse_categorical_accuracy: 0.9362 - val_loss: 0.2168 - val_sparse_categorical_accuracy: 0.9424\n",
            "Epoch 3/30\n",
            "1407/1407 [==============================] - 5s 4ms/step - loss: 0.1916 - sparse_categorical_accuracy: 0.9497 - val_loss: 0.2200 - val_sparse_categorical_accuracy: 0.9455\n",
            "Epoch 4/30\n",
            "1407/1407 [==============================] - 7s 5ms/step - loss: 0.1713 - sparse_categorical_accuracy: 0.9528 - val_loss: 0.2198 - val_sparse_categorical_accuracy: 0.9441\n",
            "Epoch 5/30\n",
            "1407/1407 [==============================] - 6s 4ms/step - loss: 0.1370 - sparse_categorical_accuracy: 0.9612 - val_loss: 0.1556 - val_sparse_categorical_accuracy: 0.9591\n",
            "Epoch 6/30\n",
            "1407/1407 [==============================] - 7s 5ms/step - loss: 0.1247 - sparse_categorical_accuracy: 0.9660 - val_loss: 0.1785 - val_sparse_categorical_accuracy: 0.9549\n",
            "Epoch 7/30\n",
            "1407/1407 [==============================] - 6s 4ms/step - loss: 0.1047 - sparse_categorical_accuracy: 0.9716 - val_loss: 0.1400 - val_sparse_categorical_accuracy: 0.9634\n",
            "Epoch 8/30\n",
            "1407/1407 [==============================] - 6s 4ms/step - loss: 0.0931 - sparse_categorical_accuracy: 0.9737 - val_loss: 0.1277 - val_sparse_categorical_accuracy: 0.9675\n",
            "Epoch 9/30\n",
            "1407/1407 [==============================] - 6s 4ms/step - loss: 0.0813 - sparse_categorical_accuracy: 0.9777 - val_loss: 0.1549 - val_sparse_categorical_accuracy: 0.9586\n",
            "Epoch 10/30\n",
            "1407/1407 [==============================] - 6s 4ms/step - loss: 0.0712 - sparse_categorical_accuracy: 0.9797 - val_loss: 0.1270 - val_sparse_categorical_accuracy: 0.9705\n",
            "Epoch 11/30\n",
            "1407/1407 [==============================] - 5s 4ms/step - loss: 0.0645 - sparse_categorical_accuracy: 0.9819 - val_loss: 0.1205 - val_sparse_categorical_accuracy: 0.9713\n",
            "Epoch 12/30\n",
            "1407/1407 [==============================] - 6s 4ms/step - loss: 0.0590 - sparse_categorical_accuracy: 0.9834 - val_loss: 0.1315 - val_sparse_categorical_accuracy: 0.9695\n",
            "Epoch 13/30\n",
            "1407/1407 [==============================] - 6s 4ms/step - loss: 0.0543 - sparse_categorical_accuracy: 0.9848 - val_loss: 0.1315 - val_sparse_categorical_accuracy: 0.9696\n",
            "Epoch 14/30\n",
            "1407/1407 [==============================] - 6s 4ms/step - loss: 0.0523 - sparse_categorical_accuracy: 0.9858 - val_loss: 0.1459 - val_sparse_categorical_accuracy: 0.9695\n",
            "Epoch 15/30\n",
            "1407/1407 [==============================] - 6s 4ms/step - loss: 0.0392 - sparse_categorical_accuracy: 0.9891 - val_loss: 0.1512 - val_sparse_categorical_accuracy: 0.9687\n",
            "Epoch 16/30\n",
            "1407/1407 [==============================] - 7s 5ms/step - loss: 0.0449 - sparse_categorical_accuracy: 0.9876 - val_loss: 0.1350 - val_sparse_categorical_accuracy: 0.9727\n",
            "Epoch 17/30\n",
            "1407/1407 [==============================] - 7s 5ms/step - loss: 0.0416 - sparse_categorical_accuracy: 0.9897 - val_loss: 0.1518 - val_sparse_categorical_accuracy: 0.9699\n",
            "Epoch 18/30\n",
            "1407/1407 [==============================] - 11s 8ms/step - loss: 0.0398 - sparse_categorical_accuracy: 0.9898 - val_loss: 0.1725 - val_sparse_categorical_accuracy: 0.9699\n",
            "Epoch 19/30\n",
            "1407/1407 [==============================] - 8s 6ms/step - loss: 0.0376 - sparse_categorical_accuracy: 0.9902 - val_loss: 0.1473 - val_sparse_categorical_accuracy: 0.9715\n",
            "Epoch 20/30\n",
            "1407/1407 [==============================] - 6s 4ms/step - loss: 0.0380 - sparse_categorical_accuracy: 0.9906 - val_loss: 0.1356 - val_sparse_categorical_accuracy: 0.9751\n",
            "Epoch 21/30\n",
            "1407/1407 [==============================] - 6s 4ms/step - loss: 0.0375 - sparse_categorical_accuracy: 0.9910 - val_loss: 0.1773 - val_sparse_categorical_accuracy: 0.9661\n"
          ]
        }
      ],
      "source": [
        "history = model.fit(X_train, y_train, epochs = 30,\n",
        "                    validation_data = (X_val, y_val),\n",
        "                    callbacks = [early_stopping])"
      ]
    },
    {
      "cell_type": "code",
      "execution_count": null,
      "id": "5c272aee",
      "metadata": {
        "execution": {
          "iopub.execute_input": "2022-02-28T21:51:42.794554Z",
          "iopub.status.busy": "2022-02-28T21:51:42.793778Z",
          "iopub.status.idle": "2022-02-28T21:51:42.797126Z",
          "shell.execute_reply": "2022-02-28T21:51:42.797623Z"
        },
        "id": "5c272aee",
        "papermill": {
          "duration": 1.030392,
          "end_time": "2022-02-28T21:51:42.797815",
          "exception": false,
          "start_time": "2022-02-28T21:51:41.767423",
          "status": "completed"
        },
        "tags": []
      },
      "outputs": [],
      "source": [
        "import pandas as pd"
      ]
    },
    {
      "cell_type": "code",
      "execution_count": null,
      "id": "8c959029",
      "metadata": {
        "execution": {
          "iopub.execute_input": "2022-02-28T21:51:44.872615Z",
          "iopub.status.busy": "2022-02-28T21:51:44.871956Z",
          "iopub.status.idle": "2022-02-28T21:51:45.168550Z",
          "shell.execute_reply": "2022-02-28T21:51:45.169098Z"
        },
        "id": "8c959029",
        "outputId": "51445414-1c19-4aee-f653-225ee68b0f62",
        "papermill": {
          "duration": 1.333795,
          "end_time": "2022-02-28T21:51:45.169339",
          "exception": false,
          "start_time": "2022-02-28T21:51:43.835544",
          "status": "completed"
        },
        "tags": [],
        "colab": {
          "base_uri": "https://localhost:8080/",
          "height": 430
        }
      },
      "outputs": [
        {
          "output_type": "display_data",
          "data": {
            "text/plain": [
              "<Figure size 640x480 with 1 Axes>"
            ],
            "image/png": "[encoded data removed]"
          },
          "metadata": {}
        }
      ],
      "source": [
        "pd.DataFrame(history.history).plot()\n",
        "plt.show()"
      ]
    },
    {
      "cell_type": "code",
      "execution_count": null,
      "id": "9f6ee568",
      "metadata": {
        "execution": {
          "iopub.execute_input": "2022-02-28T21:51:47.378430Z",
          "iopub.status.busy": "2022-02-28T21:51:47.377610Z",
          "iopub.status.idle": "2022-02-28T21:51:48.414984Z",
          "shell.execute_reply": "2022-02-28T21:51:48.414406Z"
        },
        "id": "9f6ee568",
        "outputId": "ed96dfcf-116d-4444-f665-6700ce3ab5f5",
        "papermill": {
          "duration": 2.203729,
          "end_time": "2022-02-28T21:51:48.415168",
          "exception": false,
          "start_time": "2022-02-28T21:51:46.211439",
          "status": "completed"
        },
        "tags": [],
        "colab": {
          "base_uri": "https://localhost:8080/"
        }
      },
      "outputs": [
        {
          "output_type": "stream",
          "name": "stdout",
          "text": [
            "313/313 [==============================] - 1s 2ms/step - loss: 0.1141 - sparse_categorical_accuracy: 0.9742\n"
          ]
        },
        {
          "output_type": "execute_result",
          "data": {
            "text/plain": [
              "[0.11413557082414627, 0.9742000102996826]"
            ]
          },
          "metadata": {},
          "execution_count": 18
        }
      ],
      "source": [
        "model.evaluate(X_test, y_test)"
      ]
    },
    {
      "cell_type": "code",
      "execution_count": null,
      "id": "0f08b723",
      "metadata": {
        "execution": {
          "iopub.execute_input": "2022-02-28T21:51:50.527808Z",
          "iopub.status.busy": "2022-02-28T21:51:50.527125Z",
          "iopub.status.idle": "2022-02-28T21:51:51.411244Z",
          "shell.execute_reply": "2022-02-28T21:51:51.410510Z"
        },
        "id": "0f08b723",
        "outputId": "4b599c2e-71ce-41a7-d91d-3ac30586defa",
        "papermill": {
          "duration": 1.953542,
          "end_time": "2022-02-28T21:51:51.411397",
          "exception": false,
          "start_time": "2022-02-28T21:51:49.457855",
          "status": "completed"
        },
        "tags": [],
        "colab": {
          "base_uri": "https://localhost:8080/"
        }
      },
      "outputs": [
        {
          "output_type": "stream",
          "name": "stdout",
          "text": [
            "313/313 [==============================] - 1s 3ms/step - loss: 0.1141 - sparse_categorical_accuracy: 0.9742\n"
          ]
        },
        {
          "output_type": "execute_result",
          "data": {
            "text/plain": [
              "[0.11413557082414627, 0.9742000102996826]"
            ]
          },
          "metadata": {},
          "execution_count": 19
        }
      ],
      "source": [
        "model.evaluate(X_test, y_test)"
      ]
    },
    {
      "cell_type": "code",
      "execution_count": null,
      "id": "116213d5",
      "metadata": {
        "execution": {
          "iopub.execute_input": "2022-02-28T21:51:53.545190Z",
          "iopub.status.busy": "2022-02-28T21:51:53.544205Z",
          "iopub.status.idle": "2022-02-28T21:51:53.547759Z",
          "shell.execute_reply": "2022-02-28T21:51:53.547182Z"
        },
        "id": "116213d5",
        "papermill": {
          "duration": 1.061719,
          "end_time": "2022-02-28T21:51:53.547918",
          "exception": false,
          "start_time": "2022-02-28T21:51:52.486199",
          "status": "completed"
        },
        "tags": []
      },
      "outputs": [],
      "source": [
        "from sklearn.metrics import confusion_matrix"
      ]
    },
    {
      "cell_type": "code",
      "execution_count": null,
      "id": "58ce30c8",
      "metadata": {
        "execution": {
          "iopub.execute_input": "2022-02-28T21:51:55.653969Z",
          "iopub.status.busy": "2022-02-28T21:51:55.653318Z",
          "iopub.status.idle": "2022-02-28T21:51:55.655412Z",
          "shell.execute_reply": "2022-02-28T21:51:55.654760Z"
        },
        "id": "58ce30c8",
        "papermill": {
          "duration": 1.052875,
          "end_time": "2022-02-28T21:51:55.655560",
          "exception": false,
          "start_time": "2022-02-28T21:51:54.602685",
          "status": "completed"
        },
        "tags": []
      },
      "outputs": [],
      "source": [
        "import numpy as np"
      ]
    },
    {
      "cell_type": "code",
      "execution_count": null,
      "id": "5daf74a5",
      "metadata": {
        "execution": {
          "iopub.execute_input": "2022-02-28T21:51:57.735485Z",
          "iopub.status.busy": "2022-02-28T21:51:57.734684Z",
          "iopub.status.idle": "2022-02-28T21:51:58.448279Z",
          "shell.execute_reply": "2022-02-28T21:51:58.448809Z"
        },
        "id": "5daf74a5",
        "papermill": {
          "duration": 1.751825,
          "end_time": "2022-02-28T21:51:58.448990",
          "exception": false,
          "start_time": "2022-02-28T21:51:56.697165",
          "status": "completed"
        },
        "tags": [],
        "colab": {
          "base_uri": "https://localhost:8080/"
        },
        "outputId": "1d5c2c19-3c7a-49a4-d64c-4fbf4bdeb46c"
      },
      "outputs": [
        {
          "output_type": "stream",
          "name": "stdout",
          "text": [
            "313/313 [==============================] - 1s 2ms/step\n"
          ]
        }
      ],
      "source": [
        "conf_mat = confusion_matrix(y_true = y_test, y_pred = np.argmax(model.predict(X_test), axis = 1))"
      ]
    },
    {
      "cell_type": "code",
      "execution_count": null,
      "id": "a5583de4",
      "metadata": {
        "execution": {
          "iopub.execute_input": "2022-02-28T21:52:00.545648Z",
          "iopub.status.busy": "2022-02-28T21:52:00.544945Z",
          "iopub.status.idle": "2022-02-28T21:52:00.714464Z",
          "shell.execute_reply": "2022-02-28T21:52:00.714988Z"
        },
        "id": "a5583de4",
        "outputId": "30b5867c-94d1-4bf3-8e5d-5564fb359a9b",
        "papermill": {
          "duration": 1.221648,
          "end_time": "2022-02-28T21:52:00.715192",
          "exception": false,
          "start_time": "2022-02-28T21:51:59.493544",
          "status": "completed"
        },
        "tags": [],
        "colab": {
          "base_uri": "https://localhost:8080/",
          "height": 430
        }
      },
      "outputs": [
        {
          "output_type": "display_data",
          "data": {
            "text/plain": [
              "<Figure size 640x480 with 1 Axes>"
            ],
            "image/png": "[encoded data removed]"
          },
          "metadata": {}
        }
      ],
      "source": [
        "plt.imshow(conf_mat, cmap = 'gray', vmin = 0, vmax = 255)\n",
        "plt.show()"
      ]
    },
    {
      "cell_type": "code",
      "execution_count": null,
      "id": "ad41f602",
      "metadata": {
        "execution": {
          "iopub.execute_input": "2022-02-28T21:52:02.854199Z",
          "iopub.status.busy": "2022-02-28T21:52:02.852173Z",
          "iopub.status.idle": "2022-02-28T21:52:02.981663Z",
          "shell.execute_reply": "2022-02-28T21:52:02.982248Z"
        },
        "id": "ad41f602",
        "papermill": {
          "duration": 1.215681,
          "end_time": "2022-02-28T21:52:02.982442",
          "exception": false,
          "start_time": "2022-02-28T21:52:01.766761",
          "status": "completed"
        },
        "tags": []
      },
      "outputs": [],
      "source": [
        "from sklearn.decomposition import PCA"
      ]
    },
    {
      "cell_type": "code",
      "execution_count": null,
      "id": "8e3923ed",
      "metadata": {
        "execution": {
          "iopub.execute_input": "2022-02-28T21:52:05.236697Z",
          "iopub.status.busy": "2022-02-28T21:52:05.236047Z",
          "iopub.status.idle": "2022-02-28T21:52:05.239728Z",
          "shell.execute_reply": "2022-02-28T21:52:05.240280Z"
        },
        "id": "8e3923ed",
        "papermill": {
          "duration": 1.059329,
          "end_time": "2022-02-28T21:52:05.240491",
          "exception": false,
          "start_time": "2022-02-28T21:52:04.181162",
          "status": "completed"
        },
        "tags": []
      },
      "outputs": [],
      "source": [
        "pca = PCA(n_components = 0.95)"
      ]
    },
    {
      "cell_type": "code",
      "execution_count": null,
      "id": "5c841537",
      "metadata": {
        "execution": {
          "iopub.execute_input": "2022-02-28T21:52:07.357653Z",
          "iopub.status.busy": "2022-02-28T21:52:07.356917Z",
          "iopub.status.idle": "2022-02-28T21:52:13.652768Z",
          "shell.execute_reply": "2022-02-28T21:52:13.653672Z"
        },
        "id": "5c841537",
        "papermill": {
          "duration": 7.368111,
          "end_time": "2022-02-28T21:52:13.655093",
          "exception": false,
          "start_time": "2022-02-28T21:52:06.286982",
          "status": "completed"
        },
        "tags": []
      },
      "outputs": [],
      "source": [
        "X_train = pca.fit_transform(X_train.reshape(45000, -1))\n",
        "X_test = pca.transform(X_test.reshape(X_test.shape[0], -1))\n",
        "X_val = pca.transform(X_val.reshape(X_val.shape[0], -1))"
      ]
    },
    {
      "cell_type": "code",
      "execution_count": null,
      "id": "62db6c32",
      "metadata": {
        "execution": {
          "iopub.execute_input": "2022-02-28T21:52:15.821315Z",
          "iopub.status.busy": "2022-02-28T21:52:15.820375Z",
          "iopub.status.idle": "2022-02-28T21:52:15.823823Z",
          "shell.execute_reply": "2022-02-28T21:52:15.824331Z"
        },
        "id": "62db6c32",
        "outputId": "9148bf37-447f-4656-c309-3b0b98dbad1a",
        "papermill": {
          "duration": 1.051023,
          "end_time": "2022-02-28T21:52:15.824508",
          "exception": false,
          "start_time": "2022-02-28T21:52:14.773485",
          "status": "completed"
        },
        "tags": [],
        "colab": {
          "base_uri": "https://localhost:8080/"
        }
      },
      "outputs": [
        {
          "output_type": "execute_result",
          "data": {
            "text/plain": [
              "154"
            ]
          },
          "metadata": {},
          "execution_count": 27
        }
      ],
      "source": [
        "pca.n_components_"
      ]
    },
    {
      "cell_type": "code",
      "execution_count": null,
      "id": "59dafcb8",
      "metadata": {
        "execution": {
          "iopub.execute_input": "2022-02-28T21:52:17.928842Z",
          "iopub.status.busy": "2022-02-28T21:52:17.927858Z",
          "iopub.status.idle": "2022-02-28T21:52:17.961910Z",
          "shell.execute_reply": "2022-02-28T21:52:17.962427Z"
        },
        "id": "59dafcb8",
        "papermill": {
          "duration": 1.088512,
          "end_time": "2022-02-28T21:52:17.962624",
          "exception": false,
          "start_time": "2022-02-28T21:52:16.874112",
          "status": "completed"
        },
        "tags": []
      },
      "outputs": [],
      "source": [
        "model = keras.models.Sequential(\n",
        "    [keras.layers.InputLayer(input_shape = [154]),\n",
        "     keras.layers.Dense(100, activation = 'relu'),\n",
        "     keras.layers.Dense(50, activation = 'relu'),\n",
        "     keras.layers.Dense(10, activation = 'softmax')]\n",
        ")"
      ]
    },
    {
      "cell_type": "code",
      "execution_count": null,
      "id": "72664614",
      "metadata": {
        "execution": {
          "iopub.execute_input": "2022-02-28T21:52:20.069366Z",
          "iopub.status.busy": "2022-02-28T21:52:20.063792Z",
          "iopub.status.idle": "2022-02-28T21:52:20.075078Z",
          "shell.execute_reply": "2022-02-28T21:52:20.075754Z"
        },
        "id": "72664614",
        "papermill": {
          "duration": 1.070124,
          "end_time": "2022-02-28T21:52:20.075966",
          "exception": false,
          "start_time": "2022-02-28T21:52:19.005842",
          "status": "completed"
        },
        "tags": []
      },
      "outputs": [],
      "source": [
        "model.compile(loss = [keras.losses.sparse_categorical_crossentropy],\n",
        "              optimizer = keras.optimizers.Adam(),\n",
        "              metrics = [keras.metrics.sparse_categorical_accuracy])"
      ]
    },
    {
      "cell_type": "code",
      "execution_count": null,
      "id": "2573c8e3",
      "metadata": {
        "execution": {
          "iopub.execute_input": "2022-02-28T21:52:22.324467Z",
          "iopub.status.busy": "2022-02-28T21:52:22.323740Z",
          "iopub.status.idle": "2022-02-28T21:52:22.328393Z",
          "shell.execute_reply": "2022-02-28T21:52:22.327725Z"
        },
        "id": "2573c8e3",
        "papermill": {
          "duration": 1.117832,
          "end_time": "2022-02-28T21:52:22.328540",
          "exception": false,
          "start_time": "2022-02-28T21:52:21.210708",
          "status": "completed"
        },
        "tags": []
      },
      "outputs": [],
      "source": [
        "early_stopping = keras.callbacks.EarlyStopping(patience = 10,\n",
        "                                               restore_best_weights = True)"
      ]
    },
    {
      "cell_type": "code",
      "execution_count": null,
      "id": "6055c636",
      "metadata": {
        "execution": {
          "iopub.execute_input": "2022-02-28T21:52:24.457716Z",
          "iopub.status.busy": "2022-02-28T21:52:24.456956Z",
          "iopub.status.idle": "2022-02-28T21:54:11.292293Z",
          "shell.execute_reply": "2022-02-28T21:54:11.293084Z"
        },
        "id": "6055c636",
        "outputId": "f9b8a84c-080c-480f-e7ef-9ae0246999b0",
        "papermill": {
          "duration": 107.904622,
          "end_time": "2022-02-28T21:54:11.293312",
          "exception": false,
          "start_time": "2022-02-28T21:52:23.388690",
          "status": "completed"
        },
        "tags": [],
        "colab": {
          "base_uri": "https://localhost:8080/"
        }
      },
      "outputs": [
        {
          "output_type": "stream",
          "name": "stdout",
          "text": [
            "Epoch 1/10\n",
            "1407/1407 [==============================] - 7s 4ms/step - loss: 5.7171 - sparse_categorical_accuracy: 0.8060 - val_loss: 0.9597 - val_sparse_categorical_accuracy: 0.8427\n",
            "Epoch 2/10\n",
            "1407/1407 [==============================] - 6s 4ms/step - loss: 0.5560 - sparse_categorical_accuracy: 0.8827 - val_loss: 0.5176 - val_sparse_categorical_accuracy: 0.8905\n",
            "Epoch 3/10\n",
            "1407/1407 [==============================] - 5s 4ms/step - loss: 0.3135 - sparse_categorical_accuracy: 0.9192 - val_loss: 0.4212 - val_sparse_categorical_accuracy: 0.9131\n",
            "Epoch 4/10\n",
            "1407/1407 [==============================] - 6s 5ms/step - loss: 0.2471 - sparse_categorical_accuracy: 0.9329 - val_loss: 0.3418 - val_sparse_categorical_accuracy: 0.9225\n",
            "Epoch 5/10\n",
            "1407/1407 [==============================] - 6s 4ms/step - loss: 0.2084 - sparse_categorical_accuracy: 0.9445 - val_loss: 0.2957 - val_sparse_categorical_accuracy: 0.9267\n",
            "Epoch 6/10\n",
            "1407/1407 [==============================] - 7s 5ms/step - loss: 0.1793 - sparse_categorical_accuracy: 0.9506 - val_loss: 0.2824 - val_sparse_categorical_accuracy: 0.9401\n",
            "Epoch 7/10\n",
            "1407/1407 [==============================] - 6s 4ms/step - loss: 0.1507 - sparse_categorical_accuracy: 0.9579 - val_loss: 0.2352 - val_sparse_categorical_accuracy: 0.9446\n",
            "Epoch 8/10\n",
            "1407/1407 [==============================] - 6s 4ms/step - loss: 0.1351 - sparse_categorical_accuracy: 0.9615 - val_loss: 0.2079 - val_sparse_categorical_accuracy: 0.9539\n",
            "Epoch 9/10\n",
            "1407/1407 [==============================] - 6s 4ms/step - loss: 0.1191 - sparse_categorical_accuracy: 0.9662 - val_loss: 0.2494 - val_sparse_categorical_accuracy: 0.9427\n",
            "Epoch 10/10\n",
            "1407/1407 [==============================] - 6s 4ms/step - loss: 0.1175 - sparse_categorical_accuracy: 0.9678 - val_loss: 0.2146 - val_sparse_categorical_accuracy: 0.9525\n"
          ]
        }
      ],
      "source": [
        "history = model.fit(X_train, y_train, epochs = 10,\n",
        "          validation_data = (X_val, y_val),\n",
        "          callbacks = [early_stopping])"
      ]
    },
    {
      "cell_type": "code",
      "execution_count": null,
      "id": "0422f472",
      "metadata": {
        "execution": {
          "iopub.execute_input": "2022-02-28T21:54:14.805520Z",
          "iopub.status.busy": "2022-02-28T21:54:14.804829Z",
          "iopub.status.idle": "2022-02-28T21:54:15.350764Z",
          "shell.execute_reply": "2022-02-28T21:54:15.349832Z"
        },
        "id": "0422f472",
        "outputId": "23d4ef0f-9e29-4773-83f4-275afda9ac3e",
        "papermill": {
          "duration": 2.348234,
          "end_time": "2022-02-28T21:54:15.350954",
          "exception": false,
          "start_time": "2022-02-28T21:54:13.002720",
          "status": "completed"
        },
        "tags": [],
        "colab": {
          "base_uri": "https://localhost:8080/",
          "height": 435
        }
      },
      "outputs": [
        {
          "output_type": "display_data",
          "data": {
            "text/plain": [
              "<Figure size 640x480 with 1 Axes>"
            ],
            "image/png": "[encoded data removed]"
          },
          "metadata": {}
        }
      ],
      "source": [
        "pd.DataFrame(history.history).plot()\n",
        "plt.ylim(0, 1)\n",
        "plt.show()"
      ]
    },
    {
      "cell_type": "code",
      "execution_count": null,
      "id": "5ba86e54",
      "metadata": {
        "execution": {
          "iopub.execute_input": "2022-02-28T21:54:18.821274Z",
          "iopub.status.busy": "2022-02-28T21:54:18.820170Z",
          "iopub.status.idle": "2022-02-28T21:54:19.621787Z",
          "shell.execute_reply": "2022-02-28T21:54:19.622306Z"
        },
        "id": "5ba86e54",
        "outputId": "68ab4fb1-9847-495b-8bf9-d0c8b4be51be",
        "papermill": {
          "duration": 2.544068,
          "end_time": "2022-02-28T21:54:19.622505",
          "exception": false,
          "start_time": "2022-02-28T21:54:17.078437",
          "status": "completed"
        },
        "tags": [],
        "colab": {
          "base_uri": "https://localhost:8080/"
        }
      },
      "outputs": [
        {
          "output_type": "stream",
          "name": "stdout",
          "text": [
            "313/313 [==============================] - 1s 2ms/step - loss: 0.2102 - sparse_categorical_accuracy: 0.9531\n"
          ]
        },
        {
          "output_type": "execute_result",
          "data": {
            "text/plain": [
              "[0.21022285521030426, 0.9531000256538391]"
            ]
          },
          "metadata": {},
          "execution_count": 33
        }
      ],
      "source": [
        "model.evaluate(X_test, y_test)"
      ]
    },
    {
      "cell_type": "code",
      "execution_count": null,
      "id": "c2d3c42f",
      "metadata": {
        "execution": {
          "iopub.execute_input": "2022-02-28T21:54:23.102405Z",
          "iopub.status.busy": "2022-02-28T21:54:23.101642Z",
          "iopub.status.idle": "2022-02-28T21:54:23.715444Z",
          "shell.execute_reply": "2022-02-28T21:54:23.714841Z"
        },
        "id": "c2d3c42f",
        "papermill": {
          "duration": 2.355775,
          "end_time": "2022-02-28T21:54:23.715624",
          "exception": false,
          "start_time": "2022-02-28T21:54:21.359849",
          "status": "completed"
        },
        "tags": [],
        "colab": {
          "base_uri": "https://localhost:8080/"
        },
        "outputId": "836bb1a2-4736-403d-c6af-eec0c0aae0fd"
      },
      "outputs": [
        {
          "output_type": "stream",
          "name": "stdout",
          "text": [
            "313/313 [==============================] - 1s 2ms/step\n"
          ]
        }
      ],
      "source": [
        "conf_mat = confusion_matrix(y_true = y_test, y_pred = np.argmax(model.predict(X_test), axis = 1))"
      ]
    },
    {
      "cell_type": "code",
      "execution_count": null,
      "id": "aec390d8",
      "metadata": {
        "execution": {
          "iopub.execute_input": "2022-02-28T21:54:27.308465Z",
          "iopub.status.busy": "2022-02-28T21:54:27.307362Z",
          "iopub.status.idle": "2022-02-28T21:54:27.427176Z",
          "shell.execute_reply": "2022-02-28T21:54:27.425135Z"
        },
        "id": "aec390d8",
        "outputId": "c6bbbd5b-17a1-406e-c02b-a152757a45df",
        "papermill": {
          "duration": 1.966286,
          "end_time": "2022-02-28T21:54:27.427498",
          "exception": false,
          "start_time": "2022-02-28T21:54:25.461212",
          "status": "completed"
        },
        "tags": [],
        "colab": {
          "base_uri": "https://localhost:8080/",
          "height": 430
        }
      },
      "outputs": [
        {
          "output_type": "display_data",
          "data": {
            "text/plain": [
              "<Figure size 640x480 with 1 Axes>"
            ],
            "image/png": "[encoded data removed]"
          },
          "metadata": {}
        }
      ],
      "source": [
        "plt.imshow(conf_mat, cmap = 'gray', vmin = 0, vmax = 255)\n",
        "plt.show()"
      ]
    },
    {
      "cell_type": "code",
      "execution_count": null,
      "id": "e98f8e43",
      "metadata": {
        "id": "e98f8e43",
        "papermill": {
          "duration": 1.695339,
          "end_time": "2022-02-28T21:54:30.845739",
          "exception": false,
          "start_time": "2022-02-28T21:54:29.150400",
          "status": "completed"
        },
        "tags": []
      },
      "outputs": [],
      "source": [
        "from tensorflow.keras.layers import Dropout\n"
      ]
    },
    {
      "cell_type": "code",
      "source": [
        "\n",
        "model = keras.models.Sequential([\n",
        "    keras.layers.InputLayer(input_shape=(X_train.shape[1],)),\n",
        "    keras.layers.Dense(100, activation='relu'),\n",
        "    Dropout(0.5),  # Dropout with a rate of 0.5\n",
        "    keras.layers.Dense(50, activation='relu'),\n",
        "    Dropout(0.5),  # Dropout with a rate of 0.5\n",
        "    keras.layers.Dense(10, activation='softmax')\n",
        "])\n",
        "\n",
        "# Compile the model\n",
        "model.compile(loss='sparse_categorical_crossentropy',\n",
        "              optimizer='adam',\n",
        "              metrics=['sparse_categorical_accuracy'])\n",
        "\n",
        "# Train the model\n",
        "history = model.fit(X_train, y_train, epochs=30,\n",
        "                    validation_data=(X_val, y_val))\n",
        "\n",
        "# Evaluate the model on the test set\n",
        "test_loss, test_accuracy = model.evaluate(X_test, y_test)\n",
        "print(\"Test accuracy:\", test_accuracy)\n"
      ],
      "metadata": {
        "colab": {
          "base_uri": "https://localhost:8080/"
        },
        "id": "SqzfqAHekrg8",
        "outputId": "451b5714-f910-4bbf-9db5-c886649da5c5"
      },
      "id": "SqzfqAHekrg8",
      "execution_count": null,
      "outputs": [
        {
          "output_type": "stream",
          "name": "stdout",
          "text": [
            "Epoch 1/30\n",
            "1407/1407 [==============================] - 8s 5ms/step - loss: 22.8627 - sparse_categorical_accuracy: 0.2522 - val_loss: 2.1712 - val_sparse_categorical_accuracy: 0.1919\n",
            "Epoch 2/30\n",
            "1407/1407 [==============================] - 6s 4ms/step - loss: 2.2488 - sparse_categorical_accuracy: 0.2274 - val_loss: 1.9051 - val_sparse_categorical_accuracy: 0.3173\n",
            "Epoch 3/30\n",
            "1407/1407 [==============================] - 6s 4ms/step - loss: 1.9994 - sparse_categorical_accuracy: 0.2884 - val_loss: 1.5580 - val_sparse_categorical_accuracy: 0.4514\n",
            "Epoch 4/30\n",
            "1407/1407 [==============================] - 6s 4ms/step - loss: 1.7679 - sparse_categorical_accuracy: 0.3832 - val_loss: 1.2661 - val_sparse_categorical_accuracy: 0.5467\n",
            "Epoch 5/30\n",
            "1407/1407 [==============================] - 6s 4ms/step - loss: 1.5245 - sparse_categorical_accuracy: 0.4711 - val_loss: 0.9754 - val_sparse_categorical_accuracy: 0.6536\n",
            "Epoch 6/30\n",
            "1407/1407 [==============================] - 6s 4ms/step - loss: 1.3563 - sparse_categorical_accuracy: 0.5356 - val_loss: 0.8310 - val_sparse_categorical_accuracy: 0.7449\n",
            "Epoch 7/30\n",
            "1407/1407 [==============================] - 6s 4ms/step - loss: 1.1837 - sparse_categorical_accuracy: 0.5945 - val_loss: 0.6564 - val_sparse_categorical_accuracy: 0.8005\n",
            "Epoch 8/30\n",
            "1407/1407 [==============================] - 6s 4ms/step - loss: 1.0985 - sparse_categorical_accuracy: 0.6249 - val_loss: 0.6370 - val_sparse_categorical_accuracy: 0.8271\n",
            "Epoch 9/30\n",
            "1407/1407 [==============================] - 6s 4ms/step - loss: 1.0293 - sparse_categorical_accuracy: 0.6518 - val_loss: 0.5867 - val_sparse_categorical_accuracy: 0.8514\n",
            "Epoch 10/30\n",
            "1407/1407 [==============================] - 6s 4ms/step - loss: 0.9712 - sparse_categorical_accuracy: 0.6733 - val_loss: 0.5661 - val_sparse_categorical_accuracy: 0.8320\n",
            "Epoch 11/30\n",
            "1407/1407 [==============================] - 5s 4ms/step - loss: 0.9393 - sparse_categorical_accuracy: 0.6898 - val_loss: 0.5505 - val_sparse_categorical_accuracy: 0.8713\n",
            "Epoch 12/30\n",
            "1407/1407 [==============================] - 6s 4ms/step - loss: 0.8934 - sparse_categorical_accuracy: 0.7046 - val_loss: 0.4928 - val_sparse_categorical_accuracy: 0.8784\n",
            "Epoch 13/30\n",
            "1407/1407 [==============================] - 6s 4ms/step - loss: 0.8778 - sparse_categorical_accuracy: 0.7080 - val_loss: 0.4681 - val_sparse_categorical_accuracy: 0.8841\n",
            "Epoch 14/30\n",
            "1407/1407 [==============================] - 6s 4ms/step - loss: 0.8678 - sparse_categorical_accuracy: 0.7112 - val_loss: 0.5057 - val_sparse_categorical_accuracy: 0.8778\n",
            "Epoch 15/30\n",
            "1407/1407 [==============================] - 6s 4ms/step - loss: 0.8367 - sparse_categorical_accuracy: 0.7196 - val_loss: 0.4688 - val_sparse_categorical_accuracy: 0.8904\n",
            "Epoch 16/30\n",
            "1407/1407 [==============================] - 6s 4ms/step - loss: 0.8378 - sparse_categorical_accuracy: 0.7230 - val_loss: 0.4760 - val_sparse_categorical_accuracy: 0.8909\n",
            "Epoch 17/30\n",
            "1407/1407 [==============================] - 6s 4ms/step - loss: 0.8295 - sparse_categorical_accuracy: 0.7234 - val_loss: 0.4315 - val_sparse_categorical_accuracy: 0.8967\n",
            "Epoch 18/30\n",
            "1407/1407 [==============================] - 6s 5ms/step - loss: 0.8112 - sparse_categorical_accuracy: 0.7336 - val_loss: 0.4274 - val_sparse_categorical_accuracy: 0.8983\n",
            "Epoch 19/30\n",
            "1407/1407 [==============================] - 9s 6ms/step - loss: 0.8087 - sparse_categorical_accuracy: 0.7315 - val_loss: 0.4443 - val_sparse_categorical_accuracy: 0.8943\n",
            "Epoch 20/30\n",
            "1407/1407 [==============================] - 7s 5ms/step - loss: 0.8024 - sparse_categorical_accuracy: 0.7295 - val_loss: 0.4338 - val_sparse_categorical_accuracy: 0.9013\n",
            "Epoch 21/30\n",
            "1407/1407 [==============================] - 10s 7ms/step - loss: 0.7948 - sparse_categorical_accuracy: 0.7413 - val_loss: 0.4593 - val_sparse_categorical_accuracy: 0.8961\n",
            "Epoch 22/30\n",
            "1407/1407 [==============================] - 5s 4ms/step - loss: 0.7721 - sparse_categorical_accuracy: 0.7478 - val_loss: 0.4362 - val_sparse_categorical_accuracy: 0.8991\n",
            "Epoch 23/30\n",
            "1407/1407 [==============================] - 6s 5ms/step - loss: 0.7784 - sparse_categorical_accuracy: 0.7469 - val_loss: 0.4191 - val_sparse_categorical_accuracy: 0.9052\n",
            "Epoch 24/30\n",
            "1407/1407 [==============================] - 6s 4ms/step - loss: 0.7834 - sparse_categorical_accuracy: 0.7468 - val_loss: 0.4363 - val_sparse_categorical_accuracy: 0.8963\n",
            "Epoch 25/30\n",
            "1407/1407 [==============================] - 6s 5ms/step - loss: 0.7658 - sparse_categorical_accuracy: 0.7521 - val_loss: 0.4229 - val_sparse_categorical_accuracy: 0.9040\n",
            "Epoch 26/30\n",
            "1407/1407 [==============================] - 6s 4ms/step - loss: 0.7651 - sparse_categorical_accuracy: 0.7500 - val_loss: 0.4062 - val_sparse_categorical_accuracy: 0.9053\n",
            "Epoch 27/30\n",
            "1407/1407 [==============================] - 6s 4ms/step - loss: 0.7676 - sparse_categorical_accuracy: 0.7515 - val_loss: 0.4116 - val_sparse_categorical_accuracy: 0.9036\n",
            "Epoch 28/30\n",
            "1407/1407 [==============================] - 6s 4ms/step - loss: 0.7712 - sparse_categorical_accuracy: 0.7506 - val_loss: 0.4047 - val_sparse_categorical_accuracy: 0.9045\n",
            "Epoch 29/30\n",
            "1407/1407 [==============================] - 6s 4ms/step - loss: 0.7616 - sparse_categorical_accuracy: 0.7547 - val_loss: 0.3941 - val_sparse_categorical_accuracy: 0.9080\n",
            "Epoch 30/30\n",
            "1407/1407 [==============================] - 5s 4ms/step - loss: 0.7435 - sparse_categorical_accuracy: 0.7547 - val_loss: 0.4222 - val_sparse_categorical_accuracy: 0.8953\n",
            "313/313 [==============================] - 1s 2ms/step - loss: 0.4143 - sparse_categorical_accuracy: 0.8936\n",
            "Test accuracy: 0.8935999870300293\n"
          ]
        }
      ]
    }
  ],
  "metadata": {
    "kernelspec": {
      "display_name": "Python 3",
      "name": "python3"
    },
    "language_info": {
      "codemirror_mode": {
        "name": "ipython",
        "version": 3
      },
      "file_extension": ".py",
      "mimetype": "text/x-python",
      "name": "python",
      "nbconvert_exporter": "python",
      "pygments_lexer": "ipython3",
      "version": "3.7.12"
    },
    "papermill": {
      "default_parameters": {},
      "duration": 361.023471,
      "end_time": "2022-02-28T21:54:35.680299",
      "environment_variables": {},
      "exception": null,
      "input_path": "__notebook__.ipynb",
      "output_path": "__notebook__.ipynb",
      "parameters": {},
      "start_time": "2022-02-28T21:48:34.656828",
      "version": "2.3.3"
    },
    "colab": {
      "provenance": [],
      "gpuType": "T4",
      "include_colab_link": true
    },
    "accelerator": "GPU"
  },
  "nbformat": 4,
  "nbformat_minor": 5
}